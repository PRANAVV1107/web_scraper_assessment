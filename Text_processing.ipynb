{
  "nbformat": 4,
  "nbformat_minor": 0,
  "metadata": {
    "colab": {
      "name": "Text processing",
      "provenance": [],
      "include_colab_link": true
    },
    "kernelspec": {
      "name": "python3",
      "display_name": "Python 3"
    }
  },
  "cells": [
    {
      "cell_type": "markdown",
      "metadata": {
        "id": "view-in-github",
        "colab_type": "text"
      },
      "source": [
        "<a href=\"https://colab.research.google.com/github/PRANAVV1107/web_scraper_assessment/blob/main/Text_processing.ipynb\" target=\"_parent\"><img src=\"https://colab.research.google.com/assets/colab-badge.svg\" alt=\"Open In Colab\"/></a>"
      ]
    },
    {
      "cell_type": "code",
      "metadata": {
        "id": "zkyeOqINJf2V"
      },
      "source": [
        "!apt-get install ocrmypdf -q"
      ],
      "execution_count": null,
      "outputs": []
    },
    {
      "cell_type": "code",
      "metadata": {
        "id": "OIkKFZW-7gSS",
        "colab": {
          "base_uri": "https://localhost:8080/"
        },
        "outputId": "17e9b729-31db-4876-9b99-9bb6311c5648"
      },
      "source": [
        "!pip install pdfplumber -q"
      ],
      "execution_count": 2,
      "outputs": [
        {
          "output_type": "stream",
          "name": "stdout",
          "text": [
            "\u001b[2K     \u001b[90m━━━━━━━━━━━━━━━━━━━━━━━━━━━━━━━━━━━━━━━━\u001b[0m \u001b[32m56.4/56.4 kB\u001b[0m \u001b[31m2.1 MB/s\u001b[0m eta \u001b[36m0:00:00\u001b[0m\n",
            "\u001b[2K     \u001b[90m━━━━━━━━━━━━━━━━━━━━━━━━━━━━━━━━━━━━━━━━\u001b[0m \u001b[32m5.6/5.6 MB\u001b[0m \u001b[31m60.4 MB/s\u001b[0m eta \u001b[36m0:00:00\u001b[0m\n",
            "\u001b[2K     \u001b[90m━━━━━━━━━━━━━━━━━━━━━━━━━━━━━━━━━━━━━━━━\u001b[0m \u001b[32m2.8/2.8 MB\u001b[0m \u001b[31m58.2 MB/s\u001b[0m eta \u001b[36m0:00:00\u001b[0m\n",
            "\u001b[?25h"
          ]
        }
      ]
    },
    {
      "cell_type": "code",
      "metadata": {
        "id": "bnD8KiTZK7-H"
      },
      "source": [
        "import os\n",
        "\n",
        "import requests\n",
        "import pdfplumber"
      ],
      "execution_count": 3,
      "outputs": []
    },
    {
      "cell_type": "code",
      "metadata": {
        "id": "gAg5Ob3dPbx_"
      },
      "source": [
        "def download_file(url):\n",
        "    local_filename = url.split('/')[-1]\n",
        "\n",
        "    with requests.get(url) as r:\n",
        "        assert r.status_code == 200, f'error, status code is {r.status_code}'\n",
        "        with open(local_filename, 'wb') as f:\n",
        "            f.write(r.content)\n",
        "\n",
        "    return local_filename"
      ],
      "execution_count": 4,
      "outputs": []
    },
    {
      "cell_type": "code",
      "metadata": {
        "id": "fh1M72iz7mGP"
      },
      "source": [
        "invoice = 'http://arxiv.org/pdf/1906.03288v2'\n",
        "invoice_pdf = download_file(invoice)"
      ],
      "execution_count": 5,
      "outputs": []
    },
    {
      "cell_type": "code",
      "metadata": {
        "id": "5DnRw5RlXmq5",
        "colab": {
          "base_uri": "https://localhost:8080/",
          "height": 36
        },
        "outputId": "a680d87e-4ac4-4585-df59-ab97cb05d23c"
      },
      "source": [
        "invoice_pdf"
      ],
      "execution_count": 6,
      "outputs": [
        {
          "output_type": "execute_result",
          "data": {
            "text/plain": [
              "'1906.03288v2'"
            ],
            "application/vnd.google.colaboratory.intrinsic+json": {
              "type": "string"
            }
          },
          "metadata": {},
          "execution_count": 6
        }
      ]
    },
    {
      "cell_type": "code",
      "metadata": {
        "id": "hjHUB9b87ypz"
      },
      "source": [
        "with pdfplumber.open(invoice_pdf) as pdf:\n",
        "    page = pdf.pages[0]\n",
        "    text = page.extract_text()\n",
        "    print(text)"
      ],
      "execution_count": null,
      "outputs": []
    },
    {
      "cell_type": "code",
      "metadata": {
        "id": "GCLypZf_z0jF",
        "outputId": "a4b27a66-6c20-4879-e460-90bcad90b8e4",
        "colab": {
          "base_uri": "https://localhost:8080/"
        }
      },
      "source": [
        "os.system(f'ocrmypdf {invoice_pdf} output.pdf')"
      ],
      "execution_count": 8,
      "outputs": [
        {
          "output_type": "execute_result",
          "data": {
            "text/plain": [
              "1536"
            ]
          },
          "metadata": {},
          "execution_count": 8
        }
      ]
    },
    {
      "cell_type": "code",
      "metadata": {
        "id": "4eUU1w5d4fBP"
      },
      "source": [
        "lines = text.split('\\n')"
      ],
      "execution_count": 9,
      "outputs": []
    },
    {
      "cell_type": "code",
      "metadata": {
        "id": "IxKbWlrJVA0R"
      },
      "source": [
        "import re"
      ],
      "execution_count": 11,
      "outputs": []
    },
    {
      "cell_type": "code",
      "metadata": {
        "id": "FYszGGphYTI7"
      },
      "source": [
        "nu_re = re.compile(r'Northeastern University', re.IGNORECASE)"
      ],
      "execution_count": 12,
      "outputs": []
    },
    {
      "cell_type": "code",
      "metadata": {
        "id": "d6GxjOnUYXzY"
      },
      "source": [
        "ls = []\n",
        "\n",
        "for idx, line in enumerate(lines):\n",
        "    if nu_re.search(line):\n",
        "        ls.append(lines[idx-1:idx+1])"
      ],
      "execution_count": 13,
      "outputs": []
    },
    {
      "cell_type": "code",
      "source": [
        "ls"
      ],
      "metadata": {
        "colab": {
          "base_uri": "https://localhost:8080/"
        },
        "id": "hvzsF4OZ8xWt",
        "outputId": "bcfe4637-f636-43c2-8f6f-82a03711eb71"
      },
      "execution_count": 15,
      "outputs": [
        {
          "output_type": "execute_result",
          "data": {
            "text/plain": [
              "[['Tingting Zhao Zifeng Wang Aria Masoomi Jennifer Dy',\n",
              "  'Northeastern University Northeastern University Northeastern University Northeastern University']]"
            ]
          },
          "metadata": {},
          "execution_count": 15
        }
      ]
    },
    {
      "cell_type": "code",
      "source": [
        "name_pattern = re.compile(r'([A-Z][a-z]+(?: [A-Z][a-z]+)*)')\n",
        "affiliation_pattern = re.compile(r'([A-Z][a-z]*(?: [A-Z][a-z]*)*)')\n",
        "\n",
        "# Find all names and affiliations using regex\n",
        "names = name_pattern.findall(ls[0][0])\n",
        "affiliations = affiliation_pattern.findall(ls[0][1])\n",
        "\n",
        "# Construct the mapping\n",
        "name_to_affiliation = dict(zip(names, affiliations))\n",
        "\n",
        "# Now you can use this dictionary to map names to their affiliations\n",
        "for name, affiliation in name_to_affiliation.items():\n",
        "    print(f\"{name}: {affiliation}\")"
      ],
      "metadata": {
        "colab": {
          "base_uri": "https://localhost:8080/"
        },
        "id": "Oj3ZNv7Q771A",
        "outputId": "a9f3fa65-241e-45f6-b894-5adf7b2a1744"
      },
      "execution_count": 14,
      "outputs": [
        {
          "output_type": "stream",
          "name": "stdout",
          "text": [
            "Tingting Zhao Zifeng Wang Aria Masoomi Jennifer Dy: Northeastern University Northeastern University Northeastern University Northeastern University\n"
          ]
        }
      ]
    },
    {
      "cell_type": "code",
      "source": [
        "import spacy\n",
        "\n",
        "# Load the English language model\n",
        "nlp = spacy.load(\"en_core_web_sm\")\n",
        "\n",
        "# Sample data\n",
        "data = [['Tingting Zhao Zifeng Wang Aria Masoomi Jennifer', 'Northeastern University Northeastern University Northeastern University Northeastern University']]\n",
        "\n",
        "# Process each entry in the data\n",
        "for entry in data:\n",
        "    print(\"Original entry:\", entry)\n",
        "\n",
        "    # Split the entry into names and affiliations\n",
        "    names_str, affiliations_str = entry[0], entry[1]\n",
        "    print(\"Names string:\", names_str)\n",
        "    print(\"Affiliations string:\", affiliations_str)\n",
        "\n",
        "    # Split names into individual names\n",
        "    names_split = names_str.split()\n",
        "    names = []\n",
        "    current_name = \"\"\n",
        "    for token in names_split:\n",
        "        if current_name and not any(char.isdigit() for char in token):\n",
        "            # If current_name is not empty and token doesn't contain digits, treat it as the start of a new name\n",
        "            names.append(current_name.strip())\n",
        "            current_name = token\n",
        "        else:\n",
        "            current_name += \" \" + token  # Append token to current name\n",
        "    names.append(current_name.strip())  # Append the last name\n",
        "    print(\"Split names:\", names)\n",
        "\n",
        "    # Split affiliations\n",
        "    affiliations = affiliations_str.split()\n",
        "    print(\"Split affiliations:\", affiliations)\n",
        "\n",
        "    # Construct the mapping\n",
        "    name_to_affiliation = {}\n",
        "    for name, affiliation in zip(names, affiliations):\n",
        "        name_to_affiliation[name] = affiliation\n",
        "    print(\"Name to affiliation mapping:\", name_to_affiliation)\n",
        "\n",
        "    # Now you can use this dictionary to map names to their affiliations\n",
        "    for name, affiliation in name_to_affiliation.items():\n",
        "        print(f\"{name}: {affiliation}\")\n",
        "\n",
        "    print(\"\\n\")  # Print a newline for clarity\n"
      ],
      "metadata": {
        "colab": {
          "base_uri": "https://localhost:8080/"
        },
        "id": "RiXb80M4D7c_",
        "outputId": "57108a03-df4d-48d9-c7df-7726ae75cc9f"
      },
      "execution_count": 35,
      "outputs": [
        {
          "output_type": "stream",
          "name": "stdout",
          "text": [
            "Original entry: ['Tingting Zhao Zifeng Wang Aria Masoomi Jennifer', 'Northeastern University Northeastern University Northeastern University Northeastern University']\n",
            "Names string: Tingting Zhao Zifeng Wang Aria Masoomi Jennifer\n",
            "Affiliations string: Northeastern University Northeastern University Northeastern University Northeastern University\n",
            "Split names: ['Tingting', 'Zhao', 'Zifeng', 'Wang', 'Aria', 'Masoomi', 'Jennifer']\n",
            "Split affiliations: ['Northeastern', 'University', 'Northeastern', 'University', 'Northeastern', 'University', 'Northeastern', 'University']\n",
            "Name to affiliation mapping: {'Tingting': 'Northeastern', 'Zhao': 'University', 'Zifeng': 'Northeastern', 'Wang': 'University', 'Aria': 'Northeastern', 'Masoomi': 'University', 'Jennifer': 'Northeastern'}\n",
            "Tingting: Northeastern\n",
            "Zhao: University\n",
            "Zifeng: Northeastern\n",
            "Wang: University\n",
            "Aria: Northeastern\n",
            "Masoomi: University\n",
            "Jennifer: Northeastern\n",
            "\n",
            "\n"
          ]
        }
      ]
    },
    {
      "cell_type": "code",
      "metadata": {
        "id": "DaUo7dk9Y2Aj"
      },
      "source": [],
      "execution_count": null,
      "outputs": []
    }
  ]
}